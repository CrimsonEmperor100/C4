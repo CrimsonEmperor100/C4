{
 "cells": [
  {
   "cell_type": "code",
   "execution_count": null,
   "id": "4ae4c352",
   "metadata": {},
   "outputs": [],
   "source": [
    "# Import necessary libraries\n",
    "import numpy as np\n",
    "import pandas as pd\n",
    "import matplotlib.pyplot as plt\n",
    "from sklearn.cluster import KMeans\n",
    "from sklearn.decomposition import PCA\n",
    "from sklearn.preprocessing import StandardScaler\n",
    "\n",
    "# Step 1: Load the Mall Customers dataset\n",
    "data = pd.read_csv(\"C:\\\\Users\\\\91862\\\\Downloads\\\\BI_clustering\\\\6th Prac\\\\Mall_Customers.csv\")\n",
    "\n",
    "# View the first few rows of the dataset\n",
    "data.head()\n",
    "\n",
    "# Step 2: Data Cleaning and Preprocessing\n",
    "# We will use 'Annual Income' and 'Spending Score' columns for clustering\n",
    "X = data[['Annual Income (k$)', 'Spending Score (1-100)']]\n",
    "\n",
    "# Standardize the data\n",
    "scaler = StandardScaler()\n",
    "X_scaled = scaler.fit_transform(X)\n",
    "\n",
    "# Step 3: Elbow Plot to determine the number of clusters\n",
    "# We will use the Elbow method to determine the optimal number of clusters\n",
    "inertia = []\n",
    "for i in range(1, 11):  # Checking for cluster sizes from 1 to 10\n",
    "    kmeans = KMeans(n_clusters=i, random_state=42)\n",
    "    kmeans.fit(X_scaled)\n",
    "    inertia.append(kmeans.inertia_)\n",
    "\n",
    "# Plot the Elbow Curve\n",
    "plt.figure(figsize=(8, 6))\n",
    "plt.plot(range(1, 11), inertia, marker='o')\n",
    "plt.title('Elbow Method for Optimal Clusters')\n",
    "plt.xlabel('Number of Clusters')\n",
    "plt.ylabel('Inertia')\n",
    "plt.show()\n",
    "\n",
    "# Step 4: Train KMeans with the optimal number of clusters (let's assume it is 5 after analyzing the elbow plot)\n",
    "kmeans = KMeans(n_clusters=5, random_state=42)\n",
    "kmeans.fit(X_scaled)\n",
    "labels = kmeans.labels_\n",
    "\n",
    "# Step 5: Apply PCA for dimensionality reduction (for visualization purposes)\n",
    "pca = PCA(n_components=2)\n",
    "X_pca = pca.fit_transform(X_scaled)\n",
    "\n",
    "# Step 6: Scatter plot of the clusters in the reduced 2D space\n",
    "plt.figure(figsize=(8, 6))\n",
    "plt.scatter(X_pca[:, 0], X_pca[:, 1], c=labels, cmap='viridis', marker='o')\n",
    "plt.title('KMeans Clustering with PCA Reduction')\n",
    "plt.xlabel('PCA Component 1')\n",
    "plt.ylabel('PCA Component 2')\n",
    "plt.colorbar()\n",
    "plt.show()"
   ]
  }
 ],
 "metadata": {
  "kernelspec": {
   "display_name": "Python 3 (ipykernel)",
   "language": "python",
   "name": "python3"
  },
  "language_info": {
   "codemirror_mode": {
    "name": "ipython",
    "version": 3
   },
   "file_extension": ".py",
   "mimetype": "text/x-python",
   "name": "python",
   "nbconvert_exporter": "python",
   "pygments_lexer": "ipython3",
   "version": "3.10.9"
  }
 },
 "nbformat": 4,
 "nbformat_minor": 5
}
