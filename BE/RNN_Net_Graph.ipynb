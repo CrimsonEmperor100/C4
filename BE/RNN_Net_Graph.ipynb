{
 "cells": [
  {
   "cell_type": "code",
   "execution_count": 22,
   "id": "4ca46733",
   "metadata": {},
   "outputs": [],
   "source": [
    "# Step 1: Import Required Libraries\n",
    "import numpy as np\n",
    "import tensorflow as tf\n",
    "from tensorflow.keras.datasets import imdb\n",
    "from tensorflow.keras.preprocessing.sequence import pad_sequences\n",
    "from tensorflow.keras.models import Sequential\n",
    "from tensorflow.keras.layers import Embedding, SimpleRNN, Dense, Dropout\n",
    "from tensorflow.keras.callbacks import EarlyStopping\n",
    "from sklearn.metrics import classification_report\n"
   ]
  },
  {
   "cell_type": "code",
   "execution_count": 23,
   "id": "5ed0376e",
   "metadata": {},
   "outputs": [],
   "source": [
    "# Step 2: Load IMDb Dataset (top 10000 frequent words)\n",
    "vocab_size = 10000\n",
    "(x_train, y_train), (x_test, y_test) = imdb.load_data(num_words=vocab_size)\n",
    "\n",
    "# Step 3: Pad sequences to same length\n",
    "maxlen = 300\n",
    "x_train = pad_sequences(x_train, maxlen=maxlen)\n",
    "x_test = pad_sequences(x_test, maxlen=maxlen)"
   ]
  },
  {
   "cell_type": "code",
   "execution_count": 24,
   "id": "a9abd0af",
   "metadata": {},
   "outputs": [
    {
     "name": "stderr",
     "output_type": "stream",
     "text": [
      "C:\\Users\\91862\\anaconda3\\lib\\site-packages\\keras\\src\\layers\\core\\embedding.py:90: UserWarning: Argument `input_length` is deprecated. Just remove it.\n",
      "  warnings.warn(\n"
     ]
    }
   ],
   "source": [
    "# Step 4: Define the RNN Model (stacked with dropout)\n",
    "model = Sequential()\n",
    "model.add(Embedding(input_dim=vocab_size, output_dim=64, input_length=maxlen))  # Embedding Layer\n",
    "model.add(SimpleRNN(64, return_sequences=True))                                 # First RNN Layer\n",
    "model.add(Dropout(0.3))\n",
    "model.add(SimpleRNN(32))                                                        # Second RNN Layer\n",
    "model.add(Dropout(0.3))\n",
    "model.add(Dense(1, activation='sigmoid'))                                       # Output Layer\n"
   ]
  },
  {
   "cell_type": "code",
   "execution_count": 25,
   "id": "ef98c421",
   "metadata": {},
   "outputs": [],
   "source": [
    "# Step 5: Compile the model with Adam optimizer\n",
    "from tensorflow.keras.optimizers import Adam\n",
    "model.compile(loss='binary_crossentropy', optimizer=Adam(learning_rate=0.0003), metrics=['accuracy'])\n"
   ]
  },
  {
   "cell_type": "code",
   "execution_count": 26,
   "id": "cc367088",
   "metadata": {},
   "outputs": [
    {
     "name": "stdout",
     "output_type": "stream",
     "text": [
      "Training RNN...\n",
      "Epoch 1/10\n",
      "\u001b[1m313/313\u001b[0m \u001b[32m━━━━━━━━━━━━━━━━━━━━\u001b[0m\u001b[37m\u001b[0m \u001b[1m101s\u001b[0m 305ms/step - accuracy: 0.6324 - loss: 0.6265 - val_accuracy: 0.8174 - val_loss: 0.4234\n",
      "Epoch 2/10\n",
      "\u001b[1m313/313\u001b[0m \u001b[32m━━━━━━━━━━━━━━━━━━━━\u001b[0m\u001b[37m\u001b[0m \u001b[1m85s\u001b[0m 271ms/step - accuracy: 0.8714 - loss: 0.3348 - val_accuracy: 0.8518 - val_loss: 0.3436\n",
      "Epoch 3/10\n",
      "\u001b[1m313/313\u001b[0m \u001b[32m━━━━━━━━━━━━━━━━━━━━\u001b[0m\u001b[37m\u001b[0m \u001b[1m97s\u001b[0m 309ms/step - accuracy: 0.9144 - loss: 0.2369 - val_accuracy: 0.8668 - val_loss: 0.3200\n",
      "Epoch 4/10\n",
      "\u001b[1m313/313\u001b[0m \u001b[32m━━━━━━━━━━━━━━━━━━━━\u001b[0m\u001b[37m\u001b[0m \u001b[1m136s\u001b[0m 291ms/step - accuracy: 0.9421 - loss: 0.1713 - val_accuracy: 0.8710 - val_loss: 0.3580\n",
      "Epoch 5/10\n",
      "\u001b[1m313/313\u001b[0m \u001b[32m━━━━━━━━━━━━━━━━━━━━\u001b[0m\u001b[37m\u001b[0m \u001b[1m82s\u001b[0m 263ms/step - accuracy: 0.9538 - loss: 0.1421 - val_accuracy: 0.8658 - val_loss: 0.3842\n"
     ]
    },
    {
     "data": {
      "text/plain": [
       "<keras.src.callbacks.history.History at 0x1c38241e9b0>"
      ]
     },
     "execution_count": 26,
     "metadata": {},
     "output_type": "execute_result"
    }
   ],
   "source": [
    "# Step 6: Train the model with EarlyStopping\n",
    "early_stop = EarlyStopping(monitor='val_loss', patience=2, restore_best_weights=True)\n",
    "\n",
    "print(\"Training RNN...\")\n",
    "model.fit(x_train, y_train, epochs=10, batch_size=64, validation_split=0.2, callbacks=[early_stop])"
   ]
  },
  {
   "cell_type": "code",
   "execution_count": 27,
   "id": "525803b3",
   "metadata": {},
   "outputs": [
    {
     "name": "stdout",
     "output_type": "stream",
     "text": [
      "\n",
      "Evaluating on test data...\n",
      "\u001b[1m782/782\u001b[0m \u001b[32m━━━━━━━━━━━━━━━━━━━━\u001b[0m\u001b[37m\u001b[0m \u001b[1m33s\u001b[0m 42ms/step - accuracy: 0.8609 - loss: 0.3394\n",
      "\u001b[1m782/782\u001b[0m \u001b[32m━━━━━━━━━━━━━━━━━━━━\u001b[0m\u001b[37m\u001b[0m \u001b[1m26s\u001b[0m 33ms/step\n",
      "\n",
      "Classification Report:\n",
      "              precision    recall  f1-score   support\n",
      "\n",
      "           0       0.85      0.87      0.86     12500\n",
      "           1       0.87      0.85      0.86     12500\n",
      "\n",
      "    accuracy                           0.86     25000\n",
      "   macro avg       0.86      0.86      0.86     25000\n",
      "weighted avg       0.86      0.86      0.86     25000\n",
      "\n",
      "Test Accuracy: 0.8621600270271301\n"
     ]
    }
   ],
   "source": [
    "# Step 7: Evaluate on test data\n",
    "print(\"\\nEvaluating on test data...\")\n",
    "loss, accuracy = model.evaluate(x_test, y_test)\n",
    "\n",
    "# Step 8: Predict and show classification report\n",
    "y_pred = (model.predict(x_test) > 0.5).astype(\"int32\")\n",
    "print(\"\\nClassification Report:\")\n",
    "print(classification_report(y_test, y_pred))\n",
    "\n",
    "print(\"Test Accuracy:\", accuracy)"
   ]
  },
  {
   "cell_type": "code",
   "execution_count": 28,
   "id": "73a1e4c6",
   "metadata": {},
   "outputs": [
    {
     "name": "stdout",
     "output_type": "stream",
     "text": [
      "\n",
      "Sample Predictions:\n",
      "True label: 0 Predicted: 0\n",
      "True label: 1 Predicted: 1\n",
      "True label: 1 Predicted: 1\n",
      "True label: 0 Predicted: 0\n",
      "True label: 1 Predicted: 1\n"
     ]
    }
   ],
   "source": [
    "# Step 9: Test on a few examples\n",
    "print(\"\\nSample Predictions:\")\n",
    "for i in range(5):\n",
    "    print(\"True label:\", y_test[i], \"Predicted:\", y_pred[i][0])"
   ]
  },
  {
   "cell_type": "code",
   "execution_count": null,
   "id": "83fe0358",
   "metadata": {},
   "outputs": [],
   "source": []
  }
 ],
 "metadata": {
  "kernelspec": {
   "display_name": "Python 3 (ipykernel)",
   "language": "python",
   "name": "python3"
  },
  "language_info": {
   "codemirror_mode": {
    "name": "ipython",
    "version": 3
   },
   "file_extension": ".py",
   "mimetype": "text/x-python",
   "name": "python",
   "nbconvert_exporter": "python",
   "pygments_lexer": "ipython3",
   "version": "3.10.9"
  }
 },
 "nbformat": 4,
 "nbformat_minor": 5
}
